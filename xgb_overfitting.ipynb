{
 "cells": [
  {
   "cell_type": "code",
   "execution_count": 1,
   "metadata": {},
   "outputs": [],
   "source": [
    "import numpy as np\n",
    "import xgboost as xgb\n",
    "\n",
    "from constants import MODEL_PARAMS_FOLDER\n",
    "from template_test import get_param_grid, find_best_params, main_base\n",
    "from results_processing import review_results, review_params"
   ]
  },
  {
   "cell_type": "code",
   "execution_count": 2,
   "metadata": {
    "scrolled": false
   },
   "outputs": [
    {
     "name": "stdout",
     "output_type": "stream",
     "text": [
      "left_240x20:\t60.67 ± 2.13\n",
      "left_240x20_fixed:\t61.57 ± 1.88\n",
      "left_240x40:\t60.99 ± 1.70\n",
      "left_240x40_fixed:\t61.97 ± 2.13\n",
      "right_240x20:\t59.02 ± 1.88\n",
      "right_240x20_fixed:\t59.11 ± 1.60\n",
      "right_240x40:\t57.98 ± 1.54\n",
      "right_240x40_fixed:\t60.30 ± 1.72\n",
      "left_240x20:\t{'max_depth': 4, 'n_estimators': 80}\n",
      "left_240x20_fixed:\t{'max_depth': 5, 'n_estimators': 100}\n",
      "left_240x40:\t{'max_depth': 4, 'n_estimators': 80}\n",
      "left_240x40_fixed:\t{'max_depth': 2, 'n_estimators': 120}\n",
      "right_240x20:\t{'max_depth': 1, 'n_estimators': 100}\n",
      "right_240x20_fixed:\t{'max_depth': 2, 'n_estimators': 100}\n",
      "right_240x40:\t{'max_depth': 4, 'n_estimators': 20}\n",
      "right_240x40_fixed:\t{'max_depth': 5, 'n_estimators': 100}\n"
     ]
    }
   ],
   "source": [
    "review_results('xgb_results')\n",
    "review_params('xgb_params')"
   ]
  },
  {
   "cell_type": "code",
   "execution_count": 4,
   "metadata": {},
   "outputs": [
    {
     "name": "stdout",
     "output_type": "stream",
     "text": [
      "left_240x20:\t60.03 ± 1.21\n",
      "left_240x20_fixed:\t60.23 ± 1.52\n",
      "left_240x40:\t59.52 ± 1.49\n",
      "left_240x40_fixed:\t60.18 ± 1.00\n",
      "right_240x20:\t58.72 ± 1.51\n",
      "right_240x20_fixed:\t61.78 ± 2.24\n",
      "right_240x40:\t59.58 ± 1.54\n",
      "right_240x40_fixed:\t61.01 ± 1.17\n",
      "left_240x20:\t{'max_depth': 6, 'n_estimators': 100}\n",
      "left_240x20_fixed:\t{'max_depth': 4, 'n_estimators': 90}\n",
      "left_240x40:\t{'max_depth': 1, 'n_estimators': 100}\n",
      "left_240x40_fixed:\t{'max_depth': 4, 'n_estimators': 60}\n",
      "right_240x20:\t{'max_depth': 1, 'n_estimators': 90}\n",
      "right_240x20_fixed:\t{'max_depth': 4, 'n_estimators': 110}\n",
      "right_240x40:\t{'max_depth': 4, 'n_estimators': 100}\n",
      "right_240x40_fixed:\t{'max_depth': 6, 'n_estimators': 80}\n"
     ]
    }
   ],
   "source": [
    "review_results('xgb_results_cmim_1')\n",
    "review_params('xgb_params_cmim_1')"
   ]
  },
  {
   "cell_type": "code",
   "execution_count": 2,
   "metadata": {},
   "outputs": [],
   "source": [
    "XGB_INIT_PARAMS = {'objective': 'binary:logistic',\n",
    "                   'use_label_encoder': False,\n",
    "                   'eval_metric': 'logloss',\n",
    "                   'tree_method': 'gpu_hist',\n",
    "                   'subsample': 0.5,\n",
    "                   'sampling_method': 'gradient_based'}"
   ]
  },
  {
   "cell_type": "code",
   "execution_count": 3,
   "metadata": {},
   "outputs": [],
   "source": [
    "def get_xgb_param_grid(start_nestimators, step_nestimators, end_nestimators,\n",
    "                       start_maxdepth, step_maxdepth, end_maxdepth):\n",
    "    param_grid = get_param_grid(start_param_a=start_nestimators,\n",
    "                                step_param_a=step_nestimators,\n",
    "                                end_param_a=end_nestimators,\n",
    "                                start_param_b=start_maxdepth,\n",
    "                                step_param_b=step_maxdepth,\n",
    "                                end_param_b=end_maxdepth,\n",
    "                                param_a_name='n_estimators',\n",
    "                                param_b_name='max_depth',\n",
    "                                param_a_func='linspace',\n",
    "                                param_b_func='linspace',\n",
    "                                type_a=int,\n",
    "                                type_b=int)\n",
    "    return param_grid\n",
    "\n",
    "\n",
    "def find_best_xgb_params(train_x: np.ndarray, train_y: np.ndarray,\n",
    "                         dataset_name: str, partition: int, folder_name: str,\n",
    "                         pair_method: str, n_jobs: int):\n",
    "    params = find_best_params(train_x, train_y, dataset_name, partition,\n",
    "                              folder_name, pair_method,\n",
    "                              start_param_a=40, step_param_a=20,\n",
    "                              end_param_a=100, start_param_b=2,\n",
    "                              step_param_b=2,\n",
    "                              end_param_b=6,\n",
    "                              param_a_islog2=False, param_b_islog2=False,\n",
    "                              param_a_min1=True, param_b_min1=True,\n",
    "                              param_grid_fn=get_xgb_param_grid,\n",
    "                              clasif_name='XGB', clasif_fn=xgb.XGBClassifier,\n",
    "                              n_jobs=n_jobs, init_params=XGB_INIT_PARAMS)\n",
    "    return params\n",
    "\n",
    "\n",
    "def main(find_params=True, n_jobs=-1):\n",
    "    main_base(find_params=find_params,\n",
    "              out_params_name=MODEL_PARAMS_FOLDER + '/xgb_params',\n",
    "              find_params_fn=find_best_xgb_params,\n",
    "              out_results_name='xgb_results',\n",
    "              clasif_fn=xgb.XGBClassifier,\n",
    "              use_std_masks=False,\n",
    "              n_cmim=0,\n",
    "              n_jobs=n_jobs,\n",
    "              init_params=XGB_INIT_PARAMS)\n",
    "\n",
    "\n",
    "def main_cmim(n_cmim: int, find_params=True, n_jobs=-1):\n",
    "    main_base(find_params=find_params,\n",
    "              out_params_name=MODEL_PARAMS_FOLDER +\n",
    "                              f'/xgb_params_cmim_{n_cmim}',\n",
    "              find_params_fn=find_best_xgb_params,\n",
    "              out_results_name=f'xgb_results_cmim_{n_cmim}',\n",
    "              clasif_fn=xgb.XGBClassifier,\n",
    "              use_std_masks=False,\n",
    "              n_cmim=n_cmim,\n",
    "              n_jobs=n_jobs,\n",
    "              init_params=XGB_INIT_PARAMS)"
   ]
  },
  {
   "cell_type": "code",
   "execution_count": null,
   "metadata": {},
   "outputs": [],
   "source": [
    "main_cmim(1, True, 5)"
   ]
  }
 ],
 "metadata": {
  "kernelspec": {
   "display_name": "Python 3 (ipykernel)",
   "language": "python",
   "name": "python3"
  },
  "language_info": {
   "codemirror_mode": {
    "name": "ipython",
    "version": 3
   },
   "file_extension": ".py",
   "mimetype": "text/x-python",
   "name": "python",
   "nbconvert_exporter": "python",
   "pygments_lexer": "ipython3",
   "version": "3.7.10"
  }
 },
 "nbformat": 4,
 "nbformat_minor": 4
}
