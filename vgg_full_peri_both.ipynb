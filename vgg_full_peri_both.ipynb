{
 "cells": [
  {
   "cell_type": "code",
   "execution_count": 1,
   "id": "487e89ea",
   "metadata": {},
   "outputs": [],
   "source": [
    "from vgg_full import perform_peri_vgg_test_botheyes"
   ]
  },
  {
   "cell_type": "code",
   "execution_count": 2,
   "id": "c5e2eae5",
   "metadata": {},
   "outputs": [],
   "source": [
    "partition = 1\n",
    "out_folder = 'step_by_step_vgg_peri'\n",
    "epochs = 5\n",
    "use_val = True\n",
    "lr = 0.0005\n",
    "batch_size = 4\n",
    "step_by_step = True"
   ]
  },
  {
   "cell_type": "code",
   "execution_count": null,
   "id": "9b4b08bb",
   "metadata": {},
   "outputs": [],
   "source": [
    "perform_peri_vgg_test_botheyes(partition, out_folder, epochs, use_val, lr, batch_size, step_by_step)"
   ]
  }
 ],
 "metadata": {
  "kernelspec": {
   "display_name": "Python 3 (ipykernel)",
   "language": "python",
   "name": "python3"
  },
  "language_info": {
   "codemirror_mode": {
    "name": "ipython",
    "version": 3
   },
   "file_extension": ".py",
   "mimetype": "text/x-python",
   "name": "python",
   "nbconvert_exporter": "python",
   "pygments_lexer": "ipython3",
   "version": "3.7.10"
  }
 },
 "nbformat": 4,
 "nbformat_minor": 5
}
